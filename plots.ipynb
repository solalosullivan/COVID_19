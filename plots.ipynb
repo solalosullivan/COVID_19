{
 "cells": [
  {
   "cell_type": "code",
   "execution_count": null,
   "metadata": {},
   "outputs": [],
   "source": [
    "import pickle \n",
    "import matplotlib.pyplot as plt\n",
    "\n",
    "from model import EpidemicModel\n",
    "from main import n, eta"
   ]
  },
  {
   "cell_type": "code",
   "execution_count": null,
   "metadata": {},
   "outputs": [],
   "source": [
    "parameters = {\n",
    "    \"n\": n,\n",
    "    \"eta\": eta,\n",
    "    \"gamma\": 0.09,\n",
    "    \"N\": 30,\n",
    "    \"M\": 40,\n",
    "    \"R0_max\": 15,\n",
    "    \"mu\": 0.02,  # 0.02\n",
    "    \"C\": 0.5,\n",
    "    \"sigma\": 1,\n",
    "    \"h\": 1e-6,\n",
    "    \"verbose\": False,\n",
    "}"
   ]
  },
  {
   "cell_type": "code",
   "execution_count": null,
   "metadata": {},
   "outputs": [],
   "source": [
    "model = EpidemicModel(**parameters)\n",
    "with open(\"models/eta=1__t_max=300\", 'rb') as f:\n",
    "    model = pickle.load(f)\n",
    "\n",
    "for (j,frame) in enumerate(model.population.I):\n",
    "    if j%50==0:\n",
    "        plt.imshow(frame)\n",
    "        plt.colorbar()\n",
    "        plt.show()"
   ]
  }
 ],
 "metadata": {
  "kernelspec": {
   "display_name": "Python 3",
   "language": "python",
   "name": "python3"
  },
  "language_info": {
   "codemirror_mode": {
    "name": "ipython",
    "version": 3
   },
   "file_extension": ".py",
   "mimetype": "text/x-python",
   "name": "python",
   "nbconvert_exporter": "python",
   "pygments_lexer": "ipython3",
   "version": "3.10.7"
  },
  "orig_nbformat": 4
 },
 "nbformat": 4,
 "nbformat_minor": 2
}
